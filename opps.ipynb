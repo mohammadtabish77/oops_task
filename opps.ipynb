{
 "cells": [
  {
   "cell_type": "code",
   "execution_count": 4,
   "id": "d372576a-af7c-41cf-888a-ce890f511a66",
   "metadata": {},
   "outputs": [],
   "source": [
    "class test :\n",
    "    pass"
   ]
  },
  {
   "cell_type": "code",
   "execution_count": 5,
   "id": "189c1da3-ea29-4a5d-97df-a8ea84d80df4",
   "metadata": {},
   "outputs": [],
   "source": [
    "a = test()"
   ]
  },
  {
   "cell_type": "code",
   "execution_count": 6,
   "id": "ffb8f0c9-8cd6-4dee-96b2-410872997965",
   "metadata": {},
   "outputs": [
    {
     "data": {
      "text/plain": [
       "__main__.test"
      ]
     },
     "execution_count": 6,
     "metadata": {},
     "output_type": "execute_result"
    }
   ],
   "source": [
    "type(a)"
   ]
  },
  {
   "cell_type": "code",
   "execution_count": 7,
   "id": "1f006f37-7a43-4095-96cf-0e4745630f5c",
   "metadata": {},
   "outputs": [
    {
     "name": "stdout",
     "output_type": "stream",
     "text": [
      "<class '__main__.test'>\n"
     ]
    }
   ],
   "source": [
    "print(type(a))"
   ]
  },
  {
   "cell_type": "code",
   "execution_count": 16,
   "id": "5a80736c-a251-4368-bb6d-c9bb426a1a24",
   "metadata": {},
   "outputs": [],
   "source": [
    "class pwskills:\n",
    "    \n",
    "    def wellcome_msg(self):\n",
    "        print('wellcome to pwskiskills')"
   ]
  },
  {
   "cell_type": "code",
   "execution_count": 17,
   "id": "683992dc-e19e-4fac-ae43-02c6528c2780",
   "metadata": {},
   "outputs": [],
   "source": [
    "rohan = pwskills()"
   ]
  },
  {
   "cell_type": "code",
   "execution_count": 18,
   "id": "aed33c1f-9fdc-498a-ba6f-72f7906a34e5",
   "metadata": {},
   "outputs": [
    {
     "name": "stdout",
     "output_type": "stream",
     "text": [
      "<class '__main__.pwskills'>\n"
     ]
    }
   ],
   "source": [
    "print(type(rohan))"
   ]
  },
  {
   "cell_type": "code",
   "execution_count": 20,
   "id": "00bd2e4e-7b21-4ec1-bc37-bc1f49248ae9",
   "metadata": {},
   "outputs": [
    {
     "name": "stdout",
     "output_type": "stream",
     "text": [
      "wellcome to pwskiskills\n"
     ]
    }
   ],
   "source": [
    "rohan.wellcome_msg()"
   ]
  },
  {
   "cell_type": "code",
   "execution_count": 45,
   "id": "9b0b0b35-28ef-4c68-afcc-aa1f01033dce",
   "metadata": {},
   "outputs": [],
   "source": [
    "class pwskills1 :\n",
    "    \n",
    "    def __init__(self ,phone_number,email_id,student_id):\n",
    "        self.phone_number = phone_number\n",
    "        self.email_id = email_id\n",
    "        self.student_id = student_id\n",
    "        \n",
    "    def return_student_details(self):\n",
    "        return self.student_id,self.phone_number,self.email_id\n",
    "        "
   ]
  },
  {
   "cell_type": "code",
   "execution_count": 46,
   "id": "d569e7e0-aa99-4403-8b5a-72ef69b76cb6",
   "metadata": {},
   "outputs": [],
   "source": [
    "rohan =pwskills1(1223344456,'rohann@gmail.com',123)"
   ]
  },
  {
   "cell_type": "code",
   "execution_count": 48,
   "id": "58ec8731-3186-43de-9487-61a84fff3f39",
   "metadata": {},
   "outputs": [
    {
     "data": {
      "text/plain": [
       "(123, 1223344456, 'rohann@gmail.com')"
      ]
     },
     "execution_count": 48,
     "metadata": {},
     "output_type": "execute_result"
    }
   ],
   "source": [
    "rohan.return_student_details()"
   ]
  },
  {
   "cell_type": "code",
   "execution_count": 49,
   "id": "c52f9581-3ec9-4f53-a99b-23f24e9fa5ef",
   "metadata": {},
   "outputs": [],
   "source": [
    "tabish = pwskills1(776713444,'tab@gmail.com',3444)"
   ]
  },
  {
   "cell_type": "code",
   "execution_count": 57,
   "id": "e5055b94-aca4-4577-af4c-204a5f4162ae",
   "metadata": {},
   "outputs": [
    {
     "data": {
      "text/plain": [
       "(3444, 776713444, 'tab@gmail.com')"
      ]
     },
     "execution_count": 57,
     "metadata": {},
     "output_type": "execute_result"
    }
   ],
   "source": [
    "tabish.return_student_details()"
   ]
  },
  {
   "cell_type": "code",
   "execution_count": 66,
   "id": "d450cc68-40e2-44bb-b747-8353be74457f",
   "metadata": {},
   "outputs": [],
   "source": [
    "tab=pwskills1(123,'tab@gmail.com',3445)\n",
    "aqu=pwskills1(2231,'hahahahaha',3224)\n",
    "jav=pwskills1(22333243,'jav@gmail.com',3556)"
   ]
  },
  {
   "cell_type": "code",
   "execution_count": 67,
   "id": "c34c2ee6-c9c6-4036-811c-f2be2ea3d037",
   "metadata": {},
   "outputs": [
    {
     "data": {
      "text/plain": [
       "(3445, 123, 'tab@gmail.com')"
      ]
     },
     "execution_count": 67,
     "metadata": {},
     "output_type": "execute_result"
    }
   ],
   "source": [
    "tab.return_student_details()"
   ]
  },
  {
   "cell_type": "code",
   "execution_count": 68,
   "id": "3836c547-1ecd-43cb-a70e-e041089dd3e0",
   "metadata": {},
   "outputs": [
    {
     "data": {
      "text/plain": [
       "(3224, 2231, 'hahahahaha')"
      ]
     },
     "execution_count": 68,
     "metadata": {},
     "output_type": "execute_result"
    }
   ],
   "source": [
    "aqu.return_student_details()"
   ]
  },
  {
   "cell_type": "code",
   "execution_count": 69,
   "id": "71d9bf4b-5ea0-49d0-b06b-24d2db241f03",
   "metadata": {},
   "outputs": [
    {
     "data": {
      "text/plain": [
       "(3556, 22333243, 'jav@gmail.com')"
      ]
     },
     "execution_count": 69,
     "metadata": {},
     "output_type": "execute_result"
    }
   ],
   "source": [
    "jav.return_student_details()"
   ]
  },
  {
   "cell_type": "code",
   "execution_count": 70,
   "id": "2f4c8947-ef64-45fe-bd8b-1f97aaa3d242",
   "metadata": {},
   "outputs": [
    {
     "data": {
      "text/plain": [
       "776713444"
      ]
     },
     "execution_count": 70,
     "metadata": {},
     "output_type": "execute_result"
    }
   ],
   "source": [
    "tabish.phone_number"
   ]
  },
  {
   "cell_type": "code",
   "execution_count": 72,
   "id": "8eaeb19f-35a0-4931-a52c-bee022a43cf5",
   "metadata": {},
   "outputs": [
    {
     "data": {
      "text/plain": [
       "'hahahahaha'"
      ]
     },
     "execution_count": 72,
     "metadata": {},
     "output_type": "execute_result"
    }
   ],
   "source": [
    "aqu.email_id"
   ]
  },
  {
   "cell_type": "markdown",
   "id": "98dba9a0-6a9c-4cdd-989c-a9289e4bcd01",
   "metadata": {},
   "source": [
    "#self is not a reserved keyword uski jagha kuch bhi lih sakte "
   ]
  },
  {
   "cell_type": "code",
   "execution_count": null,
   "id": "63a5c7c6-a6ea-4843-9d72-cdc315153986",
   "metadata": {},
   "outputs": [],
   "source": []
  }
 ],
 "metadata": {
  "kernelspec": {
   "display_name": "Python 3 (ipykernel)",
   "language": "python",
   "name": "python3"
  },
  "language_info": {
   "codemirror_mode": {
    "name": "ipython",
    "version": 3
   },
   "file_extension": ".py",
   "mimetype": "text/x-python",
   "name": "python",
   "nbconvert_exporter": "python",
   "pygments_lexer": "ipython3",
   "version": "3.10.8"
  }
 },
 "nbformat": 4,
 "nbformat_minor": 5
}
